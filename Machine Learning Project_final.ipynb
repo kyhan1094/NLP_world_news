{
 "cells": [
  {
   "cell_type": "markdown",
   "metadata": {},
   "source": [
    "# Machine Learning Project\n",
    "## Written by Ki Young Han"
   ]
  },
  {
   "cell_type": "code",
   "execution_count": 2,
   "metadata": {},
   "outputs": [],
   "source": [
    "import pandas as pd\n",
    "import matplotlib.pyplot as plt\n",
    "import gensim"
   ]
  },
  {
   "cell_type": "code",
   "execution_count": 3,
   "metadata": {
    "scrolled": false
   },
   "outputs": [
    {
     "data": {
      "text/html": [
       "<div>\n",
       "<style scoped>\n",
       "    .dataframe tbody tr th:only-of-type {\n",
       "        vertical-align: middle;\n",
       "    }\n",
       "\n",
       "    .dataframe tbody tr th {\n",
       "        vertical-align: top;\n",
       "    }\n",
       "\n",
       "    .dataframe thead th {\n",
       "        text-align: right;\n",
       "    }\n",
       "</style>\n",
       "<table border=\"1\" class=\"dataframe\">\n",
       "  <thead>\n",
       "    <tr style=\"text-align: right;\">\n",
       "      <th></th>\n",
       "      <th>time_created</th>\n",
       "      <th>date_created</th>\n",
       "      <th>up_votes</th>\n",
       "      <th>down_votes</th>\n",
       "      <th>title</th>\n",
       "      <th>over_18</th>\n",
       "      <th>author</th>\n",
       "      <th>category</th>\n",
       "    </tr>\n",
       "  </thead>\n",
       "  <tbody>\n",
       "    <tr>\n",
       "      <th>0</th>\n",
       "      <td>1201232046</td>\n",
       "      <td>2008-01-25</td>\n",
       "      <td>3</td>\n",
       "      <td>0</td>\n",
       "      <td>Scores killed in Pakistan clashes</td>\n",
       "      <td>False</td>\n",
       "      <td>polar</td>\n",
       "      <td>worldnews</td>\n",
       "    </tr>\n",
       "    <tr>\n",
       "      <th>1</th>\n",
       "      <td>1201232075</td>\n",
       "      <td>2008-01-25</td>\n",
       "      <td>2</td>\n",
       "      <td>0</td>\n",
       "      <td>Japan resumes refuelling mission</td>\n",
       "      <td>False</td>\n",
       "      <td>polar</td>\n",
       "      <td>worldnews</td>\n",
       "    </tr>\n",
       "    <tr>\n",
       "      <th>2</th>\n",
       "      <td>1201232523</td>\n",
       "      <td>2008-01-25</td>\n",
       "      <td>3</td>\n",
       "      <td>0</td>\n",
       "      <td>US presses Egypt on Gaza border</td>\n",
       "      <td>False</td>\n",
       "      <td>polar</td>\n",
       "      <td>worldnews</td>\n",
       "    </tr>\n",
       "    <tr>\n",
       "      <th>3</th>\n",
       "      <td>1201233290</td>\n",
       "      <td>2008-01-25</td>\n",
       "      <td>1</td>\n",
       "      <td>0</td>\n",
       "      <td>Jump-start economy: Give health care to all</td>\n",
       "      <td>False</td>\n",
       "      <td>fadi420</td>\n",
       "      <td>worldnews</td>\n",
       "    </tr>\n",
       "    <tr>\n",
       "      <th>4</th>\n",
       "      <td>1201274720</td>\n",
       "      <td>2008-01-25</td>\n",
       "      <td>4</td>\n",
       "      <td>0</td>\n",
       "      <td>Council of Europe bashes EU&amp;UN terror blacklist</td>\n",
       "      <td>False</td>\n",
       "      <td>mhermans</td>\n",
       "      <td>worldnews</td>\n",
       "    </tr>\n",
       "  </tbody>\n",
       "</table>\n",
       "</div>"
      ],
      "text/plain": [
       "   time_created date_created  up_votes  down_votes  \\\n",
       "0    1201232046   2008-01-25         3           0   \n",
       "1    1201232075   2008-01-25         2           0   \n",
       "2    1201232523   2008-01-25         3           0   \n",
       "3    1201233290   2008-01-25         1           0   \n",
       "4    1201274720   2008-01-25         4           0   \n",
       "\n",
       "                                             title  over_18    author  \\\n",
       "0                Scores killed in Pakistan clashes    False     polar   \n",
       "1                 Japan resumes refuelling mission    False     polar   \n",
       "2                  US presses Egypt on Gaza border    False     polar   \n",
       "3     Jump-start economy: Give health care to all     False   fadi420   \n",
       "4  Council of Europe bashes EU&UN terror blacklist    False  mhermans   \n",
       "\n",
       "    category  \n",
       "0  worldnews  \n",
       "1  worldnews  \n",
       "2  worldnews  \n",
       "3  worldnews  \n",
       "4  worldnews  "
      ]
     },
     "execution_count": 3,
     "metadata": {},
     "output_type": "execute_result"
    }
   ],
   "source": [
    "#import file\n",
    "news_df = pd.read_csv('Eluvio_DS_Challenge.csv')\n",
    "news_df.head()"
   ]
  },
  {
   "cell_type": "markdown",
   "metadata": {},
   "source": [
    "### Exploratory Data Analysis"
   ]
  },
  {
   "cell_type": "markdown",
   "metadata": {},
   "source": [
    "#### numerical features:"
   ]
  },
  {
   "cell_type": "code",
   "execution_count": 3,
   "metadata": {
    "scrolled": false
   },
   "outputs": [
    {
     "data": {
      "text/html": [
       "<div>\n",
       "<style scoped>\n",
       "    .dataframe tbody tr th:only-of-type {\n",
       "        vertical-align: middle;\n",
       "    }\n",
       "\n",
       "    .dataframe tbody tr th {\n",
       "        vertical-align: top;\n",
       "    }\n",
       "\n",
       "    .dataframe thead th {\n",
       "        text-align: right;\n",
       "    }\n",
       "</style>\n",
       "<table border=\"1\" class=\"dataframe\">\n",
       "  <thead>\n",
       "    <tr style=\"text-align: right;\">\n",
       "      <th></th>\n",
       "      <th>time_created</th>\n",
       "      <th>up_votes</th>\n",
       "      <th>down_votes</th>\n",
       "    </tr>\n",
       "  </thead>\n",
       "  <tbody>\n",
       "    <tr>\n",
       "      <th>count</th>\n",
       "      <td>5.092360e+05</td>\n",
       "      <td>509236.000000</td>\n",
       "      <td>509236.0</td>\n",
       "    </tr>\n",
       "    <tr>\n",
       "      <th>mean</th>\n",
       "      <td>1.380240e+09</td>\n",
       "      <td>112.236283</td>\n",
       "      <td>0.0</td>\n",
       "    </tr>\n",
       "    <tr>\n",
       "      <th>std</th>\n",
       "      <td>7.090436e+07</td>\n",
       "      <td>541.694675</td>\n",
       "      <td>0.0</td>\n",
       "    </tr>\n",
       "    <tr>\n",
       "      <th>min</th>\n",
       "      <td>1.201232e+09</td>\n",
       "      <td>0.000000</td>\n",
       "      <td>0.0</td>\n",
       "    </tr>\n",
       "    <tr>\n",
       "      <th>25%</th>\n",
       "      <td>1.341585e+09</td>\n",
       "      <td>1.000000</td>\n",
       "      <td>0.0</td>\n",
       "    </tr>\n",
       "    <tr>\n",
       "      <th>50%</th>\n",
       "      <td>1.392909e+09</td>\n",
       "      <td>5.000000</td>\n",
       "      <td>0.0</td>\n",
       "    </tr>\n",
       "    <tr>\n",
       "      <th>75%</th>\n",
       "      <td>1.436527e+09</td>\n",
       "      <td>16.000000</td>\n",
       "      <td>0.0</td>\n",
       "    </tr>\n",
       "    <tr>\n",
       "      <th>max</th>\n",
       "      <td>1.479817e+09</td>\n",
       "      <td>21253.000000</td>\n",
       "      <td>0.0</td>\n",
       "    </tr>\n",
       "  </tbody>\n",
       "</table>\n",
       "</div>"
      ],
      "text/plain": [
       "       time_created       up_votes  down_votes\n",
       "count  5.092360e+05  509236.000000    509236.0\n",
       "mean   1.380240e+09     112.236283         0.0\n",
       "std    7.090436e+07     541.694675         0.0\n",
       "min    1.201232e+09       0.000000         0.0\n",
       "25%    1.341585e+09       1.000000         0.0\n",
       "50%    1.392909e+09       5.000000         0.0\n",
       "75%    1.436527e+09      16.000000         0.0\n",
       "max    1.479817e+09   21253.000000         0.0"
      ]
     },
     "execution_count": 3,
     "metadata": {},
     "output_type": "execute_result"
    }
   ],
   "source": [
    "news_df.describe()"
   ]
  },
  {
   "cell_type": "markdown",
   "metadata": {},
   "source": [
    "Above indicates, only \"up_votes\" features is valid feature for further analysis. \"down_votes\" feature is made up of only 0 so it is not useful.\n",
    "\n",
    "Worth mention: Maximum \"up_votes\" is 21253 and 50 percentile and 75 percentile are 5 upvotes and 16 upvotes, respectively. "
   ]
  },
  {
   "cell_type": "markdown",
   "metadata": {},
   "source": [
    "#### feature: over_18"
   ]
  },
  {
   "cell_type": "code",
   "execution_count": 4,
   "metadata": {
    "scrolled": true
   },
   "outputs": [
    {
     "data": {
      "text/plain": [
       "False    508916\n",
       "True        320\n",
       "Name: over_18, dtype: int64"
      ]
     },
     "execution_count": 4,
     "metadata": {},
     "output_type": "execute_result"
    }
   ],
   "source": [
    "news_df['over_18'].value_counts()"
   ]
  },
  {
   "cell_type": "code",
   "execution_count": 5,
   "metadata": {},
   "outputs": [
    {
     "name": "stdout",
     "output_type": "stream",
     "text": [
      "99.937\n"
     ]
    }
   ],
   "source": [
    "x = 508916/len(news_df)*100\n",
    "print(\"{:.3f}\".format(x))"
   ]
  },
  {
   "cell_type": "markdown",
   "metadata": {},
   "source": [
    "Roughly 99.34% ariticles are not over 18. So feature is not useful."
   ]
  },
  {
   "cell_type": "markdown",
   "metadata": {},
   "source": [
    "#### feature: category"
   ]
  },
  {
   "cell_type": "code",
   "execution_count": 10,
   "metadata": {},
   "outputs": [
    {
     "data": {
      "text/plain": [
       "worldnews    509236\n",
       "Name: category, dtype: int64"
      ]
     },
     "execution_count": 10,
     "metadata": {},
     "output_type": "execute_result"
    }
   ],
   "source": [
    "news_df['category'].value_counts()"
   ]
  },
  {
   "cell_type": "markdown",
   "metadata": {},
   "source": [
    "100% of all article category are worldnews. So this is not useful feature as well"
   ]
  },
  {
   "cell_type": "markdown",
   "metadata": {},
   "source": [
    "#### feature: author"
   ]
  },
  {
   "cell_type": "code",
   "execution_count": 11,
   "metadata": {
    "scrolled": true
   },
   "outputs": [
    {
     "data": {
      "text/plain": [
       "davidreiss666     8897\n",
       "anutensil         5730\n",
       "DoremusJessup     5037\n",
       "maxwellhill       4023\n",
       "igeldard          4013\n",
       "                  ... \n",
       "menachem_begin       1\n",
       "StopThePresses       1\n",
       "YellowSox91          1\n",
       "idimmu               1\n",
       "RyanJSuto            1\n",
       "Name: author, Length: 85838, dtype: int64"
      ]
     },
     "execution_count": 11,
     "metadata": {},
     "output_type": "execute_result"
    }
   ],
   "source": [
    "news_df['author'].value_counts()"
   ]
  },
  {
   "cell_type": "code",
   "execution_count": 12,
   "metadata": {},
   "outputs": [
    {
     "name": "stdout",
     "output_type": "stream",
     "text": [
      "Top 100 authors wrotes: 24.519% news articles\n",
      "Top 200 authors wrotes: 31.056% news articles\n",
      "Top 300 authors wrotes: 35.299% news articles\n",
      "Top 400 authors wrotes: 38.483% news articles\n",
      "Top 500 authors wrotes: 41.056% news articles\n",
      "Top 1000 authors wrotes: 49.408% news articles\n"
     ]
    }
   ],
   "source": [
    "print(\"Top 100 authors wrotes: \"+\"{:.3f}% news articles\".format(sum(news_df['author'].value_counts().head(100))/len(news_df)*100))\n",
    "print(\"Top 200 authors wrotes: \"+\"{:.3f}% news articles\".format(sum(news_df['author'].value_counts().head(200))/len(news_df)*100))\n",
    "print(\"Top 300 authors wrotes: \"+\"{:.3f}% news articles\".format(sum(news_df['author'].value_counts().head(300))/len(news_df)*100))\n",
    "print(\"Top 400 authors wrotes: \"+\"{:.3f}% news articles\".format(sum(news_df['author'].value_counts().head(400))/len(news_df)*100))\n",
    "print(\"Top 500 authors wrotes: \"+\"{:.3f}% news articles\".format(sum(news_df['author'].value_counts().head(500))/len(news_df)*100))\n",
    "print(\"Top 1000 authors wrotes: \"+\"{:.3f}% news articles\".format(sum(news_df['author'].value_counts().head(1000))/len(news_df)*100))"
   ]
  },
  {
   "cell_type": "markdown",
   "metadata": {},
   "source": [
    "#### feature: up_votes"
   ]
  },
  {
   "cell_type": "code",
   "execution_count": 13,
   "metadata": {
    "scrolled": true
   },
   "outputs": [
    {
     "data": {
      "text/plain": [
       "0       93555\n",
       "1       46619\n",
       "2       44195\n",
       "3       36112\n",
       "4       29917\n",
       "        ...  \n",
       "2692        1\n",
       "7104        1\n",
       "5406        1\n",
       "7455        1\n",
       "5930        1\n",
       "Name: up_votes, Length: 5782, dtype: int64"
      ]
     },
     "execution_count": 13,
     "metadata": {},
     "output_type": "execute_result"
    }
   ],
   "source": [
    "news_df['up_votes'].value_counts()"
   ]
  },
  {
   "cell_type": "code",
   "execution_count": 14,
   "metadata": {},
   "outputs": [
    {
     "name": "stdout",
     "output_type": "stream",
     "text": [
      "18.372% of articles have 0 upvote\n"
     ]
    }
   ],
   "source": [
    "print(\"{:.3f}% of articles have 0 upvote\".format(news_df['up_votes'].value_counts()[0]/len(news_df)*100))"
   ]
  },
  {
   "cell_type": "code",
   "execution_count": 15,
   "metadata": {},
   "outputs": [
    {
     "data": {
      "text/plain": [
       "count    509236.000000\n",
       "mean        112.236283\n",
       "std         541.694675\n",
       "min           0.000000\n",
       "25%           1.000000\n",
       "50%           5.000000\n",
       "75%          16.000000\n",
       "max       21253.000000\n",
       "Name: up_votes, dtype: float64"
      ]
     },
     "execution_count": 15,
     "metadata": {},
     "output_type": "execute_result"
    }
   ],
   "source": [
    "news_df['up_votes'].describe()"
   ]
  },
  {
   "cell_type": "code",
   "execution_count": 16,
   "metadata": {},
   "outputs": [
    {
     "data": {
      "text/plain": [
       "16.0"
      ]
     },
     "execution_count": 16,
     "metadata": {},
     "output_type": "execute_result"
    }
   ],
   "source": [
    "news_df['up_votes'].describe()[6]"
   ]
  },
  {
   "cell_type": "markdown",
   "metadata": {},
   "source": [
    "### As part of sampling method, I decided to sample instances with more than 100 upvotes 9.897% dataset"
   ]
  },
  {
   "cell_type": "code",
   "execution_count": 4,
   "metadata": {},
   "outputs": [],
   "source": [
    "news_df_sub = news_df[news_df['up_votes'] >= 100 ]"
   ]
  },
  {
   "cell_type": "code",
   "execution_count": 18,
   "metadata": {},
   "outputs": [
    {
     "data": {
      "text/html": [
       "<div>\n",
       "<style scoped>\n",
       "    .dataframe tbody tr th:only-of-type {\n",
       "        vertical-align: middle;\n",
       "    }\n",
       "\n",
       "    .dataframe tbody tr th {\n",
       "        vertical-align: top;\n",
       "    }\n",
       "\n",
       "    .dataframe thead th {\n",
       "        text-align: right;\n",
       "    }\n",
       "</style>\n",
       "<table border=\"1\" class=\"dataframe\">\n",
       "  <thead>\n",
       "    <tr style=\"text-align: right;\">\n",
       "      <th></th>\n",
       "      <th>time_created</th>\n",
       "      <th>date_created</th>\n",
       "      <th>up_votes</th>\n",
       "      <th>down_votes</th>\n",
       "      <th>title</th>\n",
       "      <th>over_18</th>\n",
       "      <th>author</th>\n",
       "      <th>category</th>\n",
       "    </tr>\n",
       "  </thead>\n",
       "  <tbody>\n",
       "    <tr>\n",
       "      <th>144</th>\n",
       "      <td>1202836399</td>\n",
       "      <td>2008-02-12</td>\n",
       "      <td>117</td>\n",
       "      <td>0</td>\n",
       "      <td>BBC cover Anonymous Scientology Protests!</td>\n",
       "      <td>False</td>\n",
       "      <td>amph</td>\n",
       "      <td>worldnews</td>\n",
       "    </tr>\n",
       "    <tr>\n",
       "      <th>387</th>\n",
       "      <td>1203693419</td>\n",
       "      <td>2008-02-22</td>\n",
       "      <td>196</td>\n",
       "      <td>0</td>\n",
       "      <td>Morbidly Obese Man Confused Why Fire Officials...</td>\n",
       "      <td>False</td>\n",
       "      <td>bgholt1970</td>\n",
       "      <td>worldnews</td>\n",
       "    </tr>\n",
       "    <tr>\n",
       "      <th>392</th>\n",
       "      <td>1203700787</td>\n",
       "      <td>2008-02-22</td>\n",
       "      <td>113</td>\n",
       "      <td>0</td>\n",
       "      <td>*sigh* Time to update this again [pic]</td>\n",
       "      <td>False</td>\n",
       "      <td>shivermetimberslads</td>\n",
       "      <td>worldnews</td>\n",
       "    </tr>\n",
       "    <tr>\n",
       "      <th>652</th>\n",
       "      <td>1204361112</td>\n",
       "      <td>2008-03-01</td>\n",
       "      <td>112</td>\n",
       "      <td>0</td>\n",
       "      <td>Israeli minister vows Palestinian  holocaust</td>\n",
       "      <td>False</td>\n",
       "      <td>igeldard</td>\n",
       "      <td>worldnews</td>\n",
       "    </tr>\n",
       "    <tr>\n",
       "      <th>769</th>\n",
       "      <td>1204569293</td>\n",
       "      <td>2008-03-03</td>\n",
       "      <td>136</td>\n",
       "      <td>0</td>\n",
       "      <td>The Gaza Bombshell:  Vanity Fair  reports on h...</td>\n",
       "      <td>False</td>\n",
       "      <td>netbuzz</td>\n",
       "      <td>worldnews</td>\n",
       "    </tr>\n",
       "  </tbody>\n",
       "</table>\n",
       "</div>"
      ],
      "text/plain": [
       "     time_created date_created  up_votes  down_votes  \\\n",
       "144    1202836399   2008-02-12       117           0   \n",
       "387    1203693419   2008-02-22       196           0   \n",
       "392    1203700787   2008-02-22       113           0   \n",
       "652    1204361112   2008-03-01       112           0   \n",
       "769    1204569293   2008-03-03       136           0   \n",
       "\n",
       "                                                 title  over_18  \\\n",
       "144          BBC cover Anonymous Scientology Protests!    False   \n",
       "387  Morbidly Obese Man Confused Why Fire Officials...    False   \n",
       "392             *sigh* Time to update this again [pic]    False   \n",
       "652      Israeli minister vows Palestinian  holocaust     False   \n",
       "769  The Gaza Bombshell:  Vanity Fair  reports on h...    False   \n",
       "\n",
       "                  author   category  \n",
       "144                 amph  worldnews  \n",
       "387           bgholt1970  worldnews  \n",
       "392  shivermetimberslads  worldnews  \n",
       "652             igeldard  worldnews  \n",
       "769              netbuzz  worldnews  "
      ]
     },
     "execution_count": 18,
     "metadata": {},
     "output_type": "execute_result"
    }
   ],
   "source": [
    "news_df_sub.head()"
   ]
  },
  {
   "cell_type": "code",
   "execution_count": 19,
   "metadata": {},
   "outputs": [
    {
     "data": {
      "text/html": [
       "<div>\n",
       "<style scoped>\n",
       "    .dataframe tbody tr th:only-of-type {\n",
       "        vertical-align: middle;\n",
       "    }\n",
       "\n",
       "    .dataframe tbody tr th {\n",
       "        vertical-align: top;\n",
       "    }\n",
       "\n",
       "    .dataframe thead th {\n",
       "        text-align: right;\n",
       "    }\n",
       "</style>\n",
       "<table border=\"1\" class=\"dataframe\">\n",
       "  <thead>\n",
       "    <tr style=\"text-align: right;\">\n",
       "      <th></th>\n",
       "      <th>time_created</th>\n",
       "      <th>up_votes</th>\n",
       "      <th>down_votes</th>\n",
       "    </tr>\n",
       "  </thead>\n",
       "  <tbody>\n",
       "    <tr>\n",
       "      <th>count</th>\n",
       "      <td>5.039700e+04</td>\n",
       "      <td>50397.000000</td>\n",
       "      <td>50397.0</td>\n",
       "    </tr>\n",
       "    <tr>\n",
       "      <th>mean</th>\n",
       "      <td>1.395211e+09</td>\n",
       "      <td>1046.903843</td>\n",
       "      <td>0.0</td>\n",
       "    </tr>\n",
       "    <tr>\n",
       "      <th>std</th>\n",
       "      <td>6.037792e+07</td>\n",
       "      <td>1411.803450</td>\n",
       "      <td>0.0</td>\n",
       "    </tr>\n",
       "    <tr>\n",
       "      <th>min</th>\n",
       "      <td>1.202836e+09</td>\n",
       "      <td>100.000000</td>\n",
       "      <td>0.0</td>\n",
       "    </tr>\n",
       "    <tr>\n",
       "      <th>25%</th>\n",
       "      <td>1.361275e+09</td>\n",
       "      <td>194.000000</td>\n",
       "      <td>0.0</td>\n",
       "    </tr>\n",
       "    <tr>\n",
       "      <th>50%</th>\n",
       "      <td>1.405894e+09</td>\n",
       "      <td>425.000000</td>\n",
       "      <td>0.0</td>\n",
       "    </tr>\n",
       "    <tr>\n",
       "      <th>75%</th>\n",
       "      <td>1.443349e+09</td>\n",
       "      <td>1250.000000</td>\n",
       "      <td>0.0</td>\n",
       "    </tr>\n",
       "    <tr>\n",
       "      <th>max</th>\n",
       "      <td>1.479798e+09</td>\n",
       "      <td>21253.000000</td>\n",
       "      <td>0.0</td>\n",
       "    </tr>\n",
       "  </tbody>\n",
       "</table>\n",
       "</div>"
      ],
      "text/plain": [
       "       time_created      up_votes  down_votes\n",
       "count  5.039700e+04  50397.000000     50397.0\n",
       "mean   1.395211e+09   1046.903843         0.0\n",
       "std    6.037792e+07   1411.803450         0.0\n",
       "min    1.202836e+09    100.000000         0.0\n",
       "25%    1.361275e+09    194.000000         0.0\n",
       "50%    1.405894e+09    425.000000         0.0\n",
       "75%    1.443349e+09   1250.000000         0.0\n",
       "max    1.479798e+09  21253.000000         0.0"
      ]
     },
     "execution_count": 19,
     "metadata": {},
     "output_type": "execute_result"
    }
   ],
   "source": [
    "news_df_sub.describe()"
   ]
  },
  {
   "cell_type": "code",
   "execution_count": 9,
   "metadata": {},
   "outputs": [
    {
     "name": "stdout",
     "output_type": "stream",
     "text": [
      "9.897% dataset are used\n"
     ]
    }
   ],
   "source": [
    "print(\"{:.3f}% dataset are used\".format(len(news_df_sub)/len(news_df)*100))"
   ]
  },
  {
   "cell_type": "code",
   "execution_count": 21,
   "metadata": {},
   "outputs": [
    {
     "data": {
      "text/plain": [
       "16833"
      ]
     },
     "execution_count": 21,
     "metadata": {},
     "output_type": "execute_result"
    }
   ],
   "source": [
    "len(news_df_sub['author'].unique())"
   ]
  },
  {
   "cell_type": "code",
   "execution_count": 22,
   "metadata": {},
   "outputs": [
    {
     "data": {
      "text/plain": [
       "50397"
      ]
     },
     "execution_count": 22,
     "metadata": {},
     "output_type": "execute_result"
    }
   ],
   "source": [
    "len(news_df_sub['author'])"
   ]
  },
  {
   "cell_type": "code",
   "execution_count": 23,
   "metadata": {
    "scrolled": true
   },
   "outputs": [
    {
     "data": {
      "text/plain": [
       "0       93555\n",
       "1       46619\n",
       "2       44195\n",
       "3       36112\n",
       "4       29917\n",
       "        ...  \n",
       "2692        1\n",
       "7104        1\n",
       "5406        1\n",
       "7455        1\n",
       "5930        1\n",
       "Name: up_votes, Length: 5782, dtype: int64"
      ]
     },
     "execution_count": 23,
     "metadata": {},
     "output_type": "execute_result"
    }
   ],
   "source": [
    "news_df['up_votes'].value_counts()"
   ]
  },
  {
   "cell_type": "code",
   "execution_count": 24,
   "metadata": {},
   "outputs": [
    {
     "data": {
      "text/plain": [
       "<AxesSubplot:ylabel='Frequency'>"
      ]
     },
     "execution_count": 24,
     "metadata": {},
     "output_type": "execute_result"
    },
    {
     "data": {
      "image/png": "[encoded data removed]",
      "text/plain": [
       "<Figure size 432x288 with 1 Axes>"
      ]
     },
     "metadata": {
      "needs_background": "light"
     },
     "output_type": "display_data"
    }
   ],
   "source": [
    "news_df['up_votes'].value_counts().plot(kind='hist')"
   ]
  },
  {
   "cell_type": "code",
   "execution_count": 25,
   "metadata": {
    "scrolled": true
   },
   "outputs": [
    {
     "data": {
      "text/plain": [
       "davidreiss666     8897\n",
       "anutensil         5730\n",
       "DoremusJessup     5037\n",
       "maxwellhill       4023\n",
       "igeldard          4013\n",
       "                  ... \n",
       "menachem_begin       1\n",
       "StopThePresses       1\n",
       "YellowSox91          1\n",
       "idimmu               1\n",
       "RyanJSuto            1\n",
       "Name: author, Length: 85838, dtype: int64"
      ]
     },
     "execution_count": 25,
     "metadata": {},
     "output_type": "execute_result"
    }
   ],
   "source": [
    "news_df['author'].value_counts()"
   ]
  },
  {
   "cell_type": "markdown",
   "metadata": {},
   "source": [
    "## NLP\n",
    "### Which words associates with most upvotes?"
   ]
  },
  {
   "cell_type": "code",
   "execution_count": 3,
   "metadata": {
    "scrolled": false
   },
   "outputs": [
    {
     "name": "stdout",
     "output_type": "stream",
     "text": [
      "\n",
      "The following command must be run outside of the IPython shell:\n",
      "\n",
      "    $ pip install texthero\n",
      "\n",
      "The Python package manager (pip) can only be used from outside of IPython.\n",
      "Please reissue the `pip` command in a separate terminal or command prompt.\n",
      "\n",
      "See the Python documentation for more information on how to install packages:\n",
      "\n",
      "    https://docs.python.org/3/installing/\n"
     ]
    }
   ],
   "source": [
    "#pip install texthero\n",
    "https://texthero.org/docs/getting-started\n",
    "    https://github.com/jbesomi/texthero"
   ]
  },
  {
   "cell_type": "code",
   "execution_count": 10,
   "metadata": {
    "scrolled": true
   },
   "outputs": [
    {
     "name": "stderr",
     "output_type": "stream",
     "text": [
      "C:\\Users\\kyhan\\Anaconda3\\lib\\site-packages\\texthero\\preprocessing.py:131: FutureWarning: The default value of regex will change from True to False in a future version.\n",
      "  return input.str.replace(rf\"([{string.punctuation}])+\", symbol)\n",
      "C:\\Users\\kyhan\\Anaconda3\\lib\\site-packages\\ipykernel_launcher.py:9: SettingWithCopyWarning: \n",
      "A value is trying to be set on a copy of a slice from a DataFrame.\n",
      "Try using .loc[row_indexer,col_indexer] = value instead\n",
      "\n",
      "See the caveats in the documentation: https://pandas.pydata.org/pandas-docs/stable/user_guide/indexing.html#returning-a-view-versus-a-copy\n",
      "  if __name__ == '__main__':\n"
     ]
    }
   ],
   "source": [
    "#cleaning title\n",
    "\n",
    "import texthero as hero\n",
    "from texthero import preprocessing\n",
    "#news_df['clean_text'] = hero.clean(news_df['author'])\n",
    "custom_pipeline = [preprocessing.fillna,\n",
    "                   preprocessing.lowercase,\n",
    "                   preprocessing.remove_whitespace,\n",
    "                   preprocessing.remove_punctuation,\n",
    "                   preprocessing.remove_stopwords]\n",
    "news_df_sub['clean_text'] = hero.clean(news_df_sub['title'], custom_pipeline)"
   ]
  },
  {
   "cell_type": "code",
   "execution_count": 26,
   "metadata": {},
   "outputs": [
    {
     "data": {
      "text/html": [
       "<div>\n",
       "<style scoped>\n",
       "    .dataframe tbody tr th:only-of-type {\n",
       "        vertical-align: middle;\n",
       "    }\n",
       "\n",
       "    .dataframe tbody tr th {\n",
       "        vertical-align: top;\n",
       "    }\n",
       "\n",
       "    .dataframe thead th {\n",
       "        text-align: right;\n",
       "    }\n",
       "</style>\n",
       "<table border=\"1\" class=\"dataframe\">\n",
       "  <thead>\n",
       "    <tr style=\"text-align: right;\">\n",
       "      <th></th>\n",
       "      <th>time_created</th>\n",
       "      <th>date_created</th>\n",
       "      <th>up_votes</th>\n",
       "      <th>down_votes</th>\n",
       "      <th>title</th>\n",
       "      <th>over_18</th>\n",
       "      <th>author</th>\n",
       "      <th>category</th>\n",
       "      <th>clean_text</th>\n",
       "    </tr>\n",
       "  </thead>\n",
       "  <tbody>\n",
       "    <tr>\n",
       "      <th>144</th>\n",
       "      <td>1202836399</td>\n",
       "      <td>2008-02-12</td>\n",
       "      <td>117</td>\n",
       "      <td>0</td>\n",
       "      <td>BBC cover Anonymous Scientology Protests!</td>\n",
       "      <td>False</td>\n",
       "      <td>amph</td>\n",
       "      <td>worldnews</td>\n",
       "      <td>bbc cover anonymous scientology protests</td>\n",
       "    </tr>\n",
       "    <tr>\n",
       "      <th>387</th>\n",
       "      <td>1203693419</td>\n",
       "      <td>2008-02-22</td>\n",
       "      <td>196</td>\n",
       "      <td>0</td>\n",
       "      <td>Morbidly Obese Man Confused Why Fire Officials...</td>\n",
       "      <td>False</td>\n",
       "      <td>bgholt1970</td>\n",
       "      <td>worldnews</td>\n",
       "      <td>morbidly obese man confused  fire officials  u...</td>\n",
       "    </tr>\n",
       "    <tr>\n",
       "      <th>392</th>\n",
       "      <td>1203700787</td>\n",
       "      <td>2008-02-22</td>\n",
       "      <td>113</td>\n",
       "      <td>0</td>\n",
       "      <td>*sigh* Time to update this again [pic]</td>\n",
       "      <td>False</td>\n",
       "      <td>shivermetimberslads</td>\n",
       "      <td>worldnews</td>\n",
       "      <td>sigh  time  update    pic</td>\n",
       "    </tr>\n",
       "    <tr>\n",
       "      <th>652</th>\n",
       "      <td>1204361112</td>\n",
       "      <td>2008-03-01</td>\n",
       "      <td>112</td>\n",
       "      <td>0</td>\n",
       "      <td>Israeli minister vows Palestinian  holocaust</td>\n",
       "      <td>False</td>\n",
       "      <td>igeldard</td>\n",
       "      <td>worldnews</td>\n",
       "      <td>israeli minister vows palestinian holocaust</td>\n",
       "    </tr>\n",
       "    <tr>\n",
       "      <th>769</th>\n",
       "      <td>1204569293</td>\n",
       "      <td>2008-03-03</td>\n",
       "      <td>136</td>\n",
       "      <td>0</td>\n",
       "      <td>The Gaza Bombshell:  Vanity Fair  reports on h...</td>\n",
       "      <td>False</td>\n",
       "      <td>netbuzz</td>\n",
       "      <td>worldnews</td>\n",
       "      <td>gaza bombshell  vanity fair reports   bush tr...</td>\n",
       "    </tr>\n",
       "  </tbody>\n",
       "</table>\n",
       "</div>"
      ],
      "text/plain": [
       "     time_created date_created  up_votes  down_votes  \\\n",
       "144    1202836399   2008-02-12       117           0   \n",
       "387    1203693419   2008-02-22       196           0   \n",
       "392    1203700787   2008-02-22       113           0   \n",
       "652    1204361112   2008-03-01       112           0   \n",
       "769    1204569293   2008-03-03       136           0   \n",
       "\n",
       "                                                 title  over_18  \\\n",
       "144          BBC cover Anonymous Scientology Protests!    False   \n",
       "387  Morbidly Obese Man Confused Why Fire Officials...    False   \n",
       "392             *sigh* Time to update this again [pic]    False   \n",
       "652      Israeli minister vows Palestinian  holocaust     False   \n",
       "769  The Gaza Bombshell:  Vanity Fair  reports on h...    False   \n",
       "\n",
       "                  author   category  \\\n",
       "144                 amph  worldnews   \n",
       "387           bgholt1970  worldnews   \n",
       "392  shivermetimberslads  worldnews   \n",
       "652             igeldard  worldnews   \n",
       "769              netbuzz  worldnews   \n",
       "\n",
       "                                            clean_text  \n",
       "144          bbc cover anonymous scientology protests   \n",
       "387  morbidly obese man confused  fire officials  u...  \n",
       "392                         sigh  time  update    pic   \n",
       "652        israeli minister vows palestinian holocaust  \n",
       "769   gaza bombshell  vanity fair reports   bush tr...  "
      ]
     },
     "execution_count": 26,
     "metadata": {},
     "output_type": "execute_result"
    }
   ],
   "source": [
    "news_df_sub.head()"
   ]
  },
  {
   "cell_type": "code",
   "execution_count": 35,
   "metadata": {},
   "outputs": [],
   "source": [
    "# leave only unique words for each title. \n",
    "def unique_list(l):\n",
    "    ulist = []\n",
    "    [ulist.append(x) for x in l if x not in ulist]\n",
    "    return ulist"
   ]
  },
  {
   "cell_type": "code",
   "execution_count": 33,
   "metadata": {},
   "outputs": [
    {
     "name": "stderr",
     "output_type": "stream",
     "text": [
      "C:\\Users\\kyhan\\Anaconda3\\lib\\site-packages\\pandas\\core\\indexing.py:1637: SettingWithCopyWarning: \n",
      "A value is trying to be set on a copy of a slice from a DataFrame\n",
      "\n",
      "See the caveats in the documentation: https://pandas.pydata.org/pandas-docs/stable/user_guide/indexing.html#returning-a-view-versus-a-copy\n",
      "  self._setitem_single_block(indexer, value, name)\n"
     ]
    }
   ],
   "source": [
    "for num in range(len(news_df_sub)):\n",
    "    news_df_sub['clean_text'].iloc[num] =' '.join(unique_list(news_df_sub['clean_text'].iloc[num].split()))"
   ]
  },
  {
   "cell_type": "code",
   "execution_count": 36,
   "metadata": {},
   "outputs": [
    {
     "data": {
      "text/html": [
       "<div>\n",
       "<style scoped>\n",
       "    .dataframe tbody tr th:only-of-type {\n",
       "        vertical-align: middle;\n",
       "    }\n",
       "\n",
       "    .dataframe tbody tr th {\n",
       "        vertical-align: top;\n",
       "    }\n",
       "\n",
       "    .dataframe thead th {\n",
       "        text-align: right;\n",
       "    }\n",
       "</style>\n",
       "<table border=\"1\" class=\"dataframe\">\n",
       "  <thead>\n",
       "    <tr style=\"text-align: right;\">\n",
       "      <th></th>\n",
       "      <th>time_created</th>\n",
       "      <th>date_created</th>\n",
       "      <th>up_votes</th>\n",
       "      <th>down_votes</th>\n",
       "      <th>title</th>\n",
       "      <th>over_18</th>\n",
       "      <th>author</th>\n",
       "      <th>category</th>\n",
       "      <th>clean_text</th>\n",
       "    </tr>\n",
       "  </thead>\n",
       "  <tbody>\n",
       "    <tr>\n",
       "      <th>144</th>\n",
       "      <td>1202836399</td>\n",
       "      <td>2008-02-12</td>\n",
       "      <td>117</td>\n",
       "      <td>0</td>\n",
       "      <td>BBC cover Anonymous Scientology Protests!</td>\n",
       "      <td>False</td>\n",
       "      <td>amph</td>\n",
       "      <td>worldnews</td>\n",
       "      <td>bbc cover anonymous scientology protests</td>\n",
       "    </tr>\n",
       "    <tr>\n",
       "      <th>387</th>\n",
       "      <td>1203693419</td>\n",
       "      <td>2008-02-22</td>\n",
       "      <td>196</td>\n",
       "      <td>0</td>\n",
       "      <td>Morbidly Obese Man Confused Why Fire Officials...</td>\n",
       "      <td>False</td>\n",
       "      <td>bgholt1970</td>\n",
       "      <td>worldnews</td>\n",
       "      <td>morbidly obese man confused fire officials ups...</td>\n",
       "    </tr>\n",
       "    <tr>\n",
       "      <th>392</th>\n",
       "      <td>1203700787</td>\n",
       "      <td>2008-02-22</td>\n",
       "      <td>113</td>\n",
       "      <td>0</td>\n",
       "      <td>*sigh* Time to update this again [pic]</td>\n",
       "      <td>False</td>\n",
       "      <td>shivermetimberslads</td>\n",
       "      <td>worldnews</td>\n",
       "      <td>sigh time update pic</td>\n",
       "    </tr>\n",
       "    <tr>\n",
       "      <th>652</th>\n",
       "      <td>1204361112</td>\n",
       "      <td>2008-03-01</td>\n",
       "      <td>112</td>\n",
       "      <td>0</td>\n",
       "      <td>Israeli minister vows Palestinian  holocaust</td>\n",
       "      <td>False</td>\n",
       "      <td>igeldard</td>\n",
       "      <td>worldnews</td>\n",
       "      <td>israeli minister vows palestinian holocaust</td>\n",
       "    </tr>\n",
       "    <tr>\n",
       "      <th>769</th>\n",
       "      <td>1204569293</td>\n",
       "      <td>2008-03-03</td>\n",
       "      <td>136</td>\n",
       "      <td>0</td>\n",
       "      <td>The Gaza Bombshell:  Vanity Fair  reports on h...</td>\n",
       "      <td>False</td>\n",
       "      <td>netbuzz</td>\n",
       "      <td>worldnews</td>\n",
       "      <td>gaza bombshell vanity fair reports bush tried ...</td>\n",
       "    </tr>\n",
       "  </tbody>\n",
       "</table>\n",
       "</div>"
      ],
      "text/plain": [
       "     time_created date_created  up_votes  down_votes  \\\n",
       "144    1202836399   2008-02-12       117           0   \n",
       "387    1203693419   2008-02-22       196           0   \n",
       "392    1203700787   2008-02-22       113           0   \n",
       "652    1204361112   2008-03-01       112           0   \n",
       "769    1204569293   2008-03-03       136           0   \n",
       "\n",
       "                                                 title  over_18  \\\n",
       "144          BBC cover Anonymous Scientology Protests!    False   \n",
       "387  Morbidly Obese Man Confused Why Fire Officials...    False   \n",
       "392             *sigh* Time to update this again [pic]    False   \n",
       "652      Israeli minister vows Palestinian  holocaust     False   \n",
       "769  The Gaza Bombshell:  Vanity Fair  reports on h...    False   \n",
       "\n",
       "                  author   category  \\\n",
       "144                 amph  worldnews   \n",
       "387           bgholt1970  worldnews   \n",
       "392  shivermetimberslads  worldnews   \n",
       "652             igeldard  worldnews   \n",
       "769              netbuzz  worldnews   \n",
       "\n",
       "                                            clean_text  \n",
       "144           bbc cover anonymous scientology protests  \n",
       "387  morbidly obese man confused fire officials ups...  \n",
       "392                               sigh time update pic  \n",
       "652        israeli minister vows palestinian holocaust  \n",
       "769  gaza bombshell vanity fair reports bush tried ...  "
      ]
     },
     "execution_count": 36,
     "metadata": {},
     "output_type": "execute_result"
    }
   ],
   "source": [
    "news_df_sub.head()"
   ]
  },
  {
   "cell_type": "code",
   "execution_count": 44,
   "metadata": {},
   "outputs": [],
   "source": [
    "# Initializing Dictionary\n",
    "title_dict = {}\n",
    "\n",
    "#word counter but instead of adding frequency of word, this will add up_vote number for each title so it will weight each word by up_votes. \n",
    "for num in range(len(news_df_sub)):\n",
    "    for word in news_df_sub['clean_text'].iloc[num].split(): \n",
    "        if word not in title_dict:\n",
    "            title_dict[word] = 0\n",
    "        title_dict[word] += news_df_sub['up_votes'].iloc[num]"
   ]
  },
  {
   "cell_type": "code",
   "execution_count": 58,
   "metadata": {},
   "outputs": [],
   "source": [
    "title_dict = dict(sorted(title_dict.items(), key=lambda item: item[1], reverse=True))"
   ]
  },
  {
   "cell_type": "code",
   "execution_count": 63,
   "metadata": {},
   "outputs": [
    {
     "data": {
      "text/plain": [
       "[('says', 3411420),\n",
       " ('us', 3151983),\n",
       " ('world', 2907953),\n",
       " ('new', 2789554),\n",
       " ('government', 2218935),\n",
       " ('people', 2148758),\n",
       " ('000', 2115632),\n",
       " ('year', 2007124),\n",
       " ('u', 1956631),\n",
       " ('russia', 1945269),\n",
       " ('years', 1878210),\n",
       " ('isis', 1847199),\n",
       " ('police', 1846282),\n",
       " ('china', 1805360),\n",
       " ('first', 1765021),\n",
       " ('president', 1673612),\n",
       " ('one', 1546247),\n",
       " ('north', 1521224),\n",
       " ('uk', 1497041),\n",
       " ('state', 1467212),\n",
       " ('said', 1458328),\n",
       " ('russian', 1456337),\n",
       " ('country', 1409550),\n",
       " ('korea', 1355075),\n",
       " ('found', 1300711),\n",
       " ('killed', 1273590),\n",
       " ('1', 1267194),\n",
       " ('war', 1242755),\n",
       " ('two', 1229861),\n",
       " ('million', 1203622),\n",
       " ('old', 1200496),\n",
       " ('saudi', 1172580),\n",
       " ('minister', 1155986),\n",
       " ('court', 1135860),\n",
       " ('un', 1119493),\n",
       " ('could', 1114306),\n",
       " ('man', 1059112),\n",
       " ('say', 1044649),\n",
       " ('attack', 1041937),\n",
       " ('law', 1041195),\n",
       " ('women', 1035166),\n",
       " ('2', 1025831),\n",
       " ('death', 1012250),\n",
       " ('germany', 1006708),\n",
       " ('south', 996413),\n",
       " ('report', 988520),\n",
       " ('turkey', 982400),\n",
       " ('india', 976435),\n",
       " ('time', 962566),\n",
       " ('syria', 952023),\n",
       " ('military', 942062),\n",
       " ('israel', 927158),\n",
       " ('chinese', 925976),\n",
       " ('canada', 915057),\n",
       " ('would', 914022),\n",
       " ('snowden', 909329),\n",
       " ('ukraine', 904516),\n",
       " ('ban', 900638),\n",
       " ('human', 891826),\n",
       " ('islamic', 873458),\n",
       " ('anti', 871867),\n",
       " ('japan', 864878),\n",
       " ('rights', 860876),\n",
       " ('british', 857777),\n",
       " ('france', 852119),\n",
       " ('dead', 845614),\n",
       " ('may', 839459),\n",
       " ('oil', 837708),\n",
       " ('calls', 818218),\n",
       " ('children', 816253),\n",
       " ('german', 813913),\n",
       " ('obama', 802094),\n",
       " ('internet', 793999),\n",
       " ('putin', 792163),\n",
       " ('iran', 786433),\n",
       " ('public', 771325),\n",
       " ('5', 767546),\n",
       " ('news', 760212),\n",
       " ('scientists', 756976),\n",
       " ('australia', 739901),\n",
       " ('three', 736246),\n",
       " ('nsa', 733961),\n",
       " ('billion', 732429),\n",
       " ('eu', 725238),\n",
       " ('last', 724544),\n",
       " ('international', 709836),\n",
       " ('10', 708050),\n",
       " ('australian', 700188),\n",
       " ('climate', 699464),\n",
       " ('drug', 694969),\n",
       " ('global', 693443),\n",
       " ('woman', 692177),\n",
       " ('french', 688360),\n",
       " ('thousands', 685921),\n",
       " ('city', 677100),\n",
       " ('group', 673282),\n",
       " ('use', 670425),\n",
       " ('officials', 664854),\n",
       " ('sex', 660907),\n",
       " ('muslim', 659192)]"
      ]
     },
     "execution_count": 63,
     "metadata": {},
     "output_type": "execute_result"
    }
   ],
   "source": [
    "sorted(title_dict.items(), key=lambda item: item[1], reverse=True)[:100]"
   ]
  },
  {
   "cell_type": "code",
   "execution_count": 9,
   "metadata": {},
   "outputs": [],
   "source": [
    "news_df_sub2 = news_df_sub[['up_votes', 'title']].copy()"
   ]
  },
  {
   "cell_type": "code",
   "execution_count": 10,
   "metadata": {},
   "outputs": [
    {
     "data": {
      "text/html": [
       "<div>\n",
       "<style scoped>\n",
       "    .dataframe tbody tr th:only-of-type {\n",
       "        vertical-align: middle;\n",
       "    }\n",
       "\n",
       "    .dataframe tbody tr th {\n",
       "        vertical-align: top;\n",
       "    }\n",
       "\n",
       "    .dataframe thead th {\n",
       "        text-align: right;\n",
       "    }\n",
       "</style>\n",
       "<table border=\"1\" class=\"dataframe\">\n",
       "  <thead>\n",
       "    <tr style=\"text-align: right;\">\n",
       "      <th></th>\n",
       "      <th>up_votes</th>\n",
       "      <th>title</th>\n",
       "    </tr>\n",
       "  </thead>\n",
       "  <tbody>\n",
       "    <tr>\n",
       "      <th>144</th>\n",
       "      <td>117</td>\n",
       "      <td>BBC cover Anonymous Scientology Protests!</td>\n",
       "    </tr>\n",
       "    <tr>\n",
       "      <th>387</th>\n",
       "      <td>196</td>\n",
       "      <td>Morbidly Obese Man Confused Why Fire Officials...</td>\n",
       "    </tr>\n",
       "    <tr>\n",
       "      <th>392</th>\n",
       "      <td>113</td>\n",
       "      <td>*sigh* Time to update this again [pic]</td>\n",
       "    </tr>\n",
       "    <tr>\n",
       "      <th>652</th>\n",
       "      <td>112</td>\n",
       "      <td>Israeli minister vows Palestinian  holocaust</td>\n",
       "    </tr>\n",
       "    <tr>\n",
       "      <th>769</th>\n",
       "      <td>136</td>\n",
       "      <td>The Gaza Bombshell:  Vanity Fair  reports on h...</td>\n",
       "    </tr>\n",
       "  </tbody>\n",
       "</table>\n",
       "</div>"
      ],
      "text/plain": [
       "     up_votes                                              title\n",
       "144       117          BBC cover Anonymous Scientology Protests!\n",
       "387       196  Morbidly Obese Man Confused Why Fire Officials...\n",
       "392       113             *sigh* Time to update this again [pic]\n",
       "652       112      Israeli minister vows Palestinian  holocaust \n",
       "769       136  The Gaza Bombshell:  Vanity Fair  reports on h..."
      ]
     },
     "execution_count": 10,
     "metadata": {},
     "output_type": "execute_result"
    }
   ],
   "source": [
    "news_df_sub2.head()"
   ]
  },
  {
   "cell_type": "code",
   "execution_count": 13,
   "metadata": {},
   "outputs": [
    {
     "data": {
      "text/html": [
       "<div>\n",
       "<style scoped>\n",
       "    .dataframe tbody tr th:only-of-type {\n",
       "        vertical-align: middle;\n",
       "    }\n",
       "\n",
       "    .dataframe tbody tr th {\n",
       "        vertical-align: top;\n",
       "    }\n",
       "\n",
       "    .dataframe thead th {\n",
       "        text-align: right;\n",
       "    }\n",
       "</style>\n",
       "<table border=\"1\" class=\"dataframe\">\n",
       "  <thead>\n",
       "    <tr style=\"text-align: right;\">\n",
       "      <th></th>\n",
       "      <th>up_votes</th>\n",
       "      <th>title</th>\n",
       "    </tr>\n",
       "  </thead>\n",
       "  <tbody>\n",
       "    <tr>\n",
       "      <th>377200</th>\n",
       "      <td>21253</td>\n",
       "      <td>A biotech startup has managed to 3-D print fak...</td>\n",
       "    </tr>\n",
       "    <tr>\n",
       "      <th>391415</th>\n",
       "      <td>13435</td>\n",
       "      <td>Twitter has forced 30 websites that archive po...</td>\n",
       "    </tr>\n",
       "    <tr>\n",
       "      <th>450818</th>\n",
       "      <td>13244</td>\n",
       "      <td>2.6 terabyte leak of Panamanian shell company ...</td>\n",
       "    </tr>\n",
       "    <tr>\n",
       "      <th>391318</th>\n",
       "      <td>12333</td>\n",
       "      <td>The police officer who leaked the footage of t...</td>\n",
       "    </tr>\n",
       "    <tr>\n",
       "      <th>390252</th>\n",
       "      <td>11288</td>\n",
       "      <td>Paris shooting survivor suing French media for...</td>\n",
       "    </tr>\n",
       "    <tr>\n",
       "      <th>449809</th>\n",
       "      <td>11108</td>\n",
       "      <td>Hundreds of thousands of leaked emails reveal ...</td>\n",
       "    </tr>\n",
       "    <tr>\n",
       "      <th>397215</th>\n",
       "      <td>10922</td>\n",
       "      <td>Brazil s Supreme Court has banned corporate co...</td>\n",
       "    </tr>\n",
       "    <tr>\n",
       "      <th>390494</th>\n",
       "      <td>10515</td>\n",
       "      <td>ISIS beheads 81-year-old pioneer archaeologist...</td>\n",
       "    </tr>\n",
       "    <tr>\n",
       "      <th>500786</th>\n",
       "      <td>10394</td>\n",
       "      <td>Feeding cows seaweed could slash global greenh...</td>\n",
       "    </tr>\n",
       "    <tr>\n",
       "      <th>388230</th>\n",
       "      <td>10377</td>\n",
       "      <td>Brazilian radio host famous for exposing corru...</td>\n",
       "    </tr>\n",
       "    <tr>\n",
       "      <th>465396</th>\n",
       "      <td>10289</td>\n",
       "      <td>Every reference to the Great Barrier Reef remo...</td>\n",
       "    </tr>\n",
       "    <tr>\n",
       "      <th>495329</th>\n",
       "      <td>10239</td>\n",
       "      <td>Iceland s capital Reykjavik to switch off stre...</td>\n",
       "    </tr>\n",
       "    <tr>\n",
       "      <th>447311</th>\n",
       "      <td>10161</td>\n",
       "      <td>TTIP: secrecy around talks is  profoundly unde...</td>\n",
       "    </tr>\n",
       "    <tr>\n",
       "      <th>187603</th>\n",
       "      <td>10159</td>\n",
       "      <td>What we have... is... concrete proof of U.S.-...</td>\n",
       "    </tr>\n",
       "    <tr>\n",
       "      <th>389011</th>\n",
       "      <td>10086</td>\n",
       "      <td>India sues Nestle for nearly $100m because lea...</td>\n",
       "    </tr>\n",
       "    <tr>\n",
       "      <th>412603</th>\n",
       "      <td>9967</td>\n",
       "      <td>Shootings  reported in central Paris: Reports...</td>\n",
       "    </tr>\n",
       "    <tr>\n",
       "      <th>354925</th>\n",
       "      <td>9954</td>\n",
       "      <td>France decrees new rooftops must be covered in...</td>\n",
       "    </tr>\n",
       "    <tr>\n",
       "      <th>387922</th>\n",
       "      <td>9803</td>\n",
       "      <td>iTunes is illegal under UK copyright law - The...</td>\n",
       "    </tr>\n",
       "    <tr>\n",
       "      <th>437930</th>\n",
       "      <td>9520</td>\n",
       "      <td>Gravitational waves from black holes detected</td>\n",
       "    </tr>\n",
       "    <tr>\n",
       "      <th>494404</th>\n",
       "      <td>9492</td>\n",
       "      <td>The UN just declared antibiotic resistance “th...</td>\n",
       "    </tr>\n",
       "  </tbody>\n",
       "</table>\n",
       "</div>"
      ],
      "text/plain": [
       "        up_votes                                              title\n",
       "377200     21253  A biotech startup has managed to 3-D print fak...\n",
       "391415     13435  Twitter has forced 30 websites that archive po...\n",
       "450818     13244  2.6 terabyte leak of Panamanian shell company ...\n",
       "391318     12333  The police officer who leaked the footage of t...\n",
       "390252     11288  Paris shooting survivor suing French media for...\n",
       "449809     11108  Hundreds of thousands of leaked emails reveal ...\n",
       "397215     10922  Brazil s Supreme Court has banned corporate co...\n",
       "390494     10515  ISIS beheads 81-year-old pioneer archaeologist...\n",
       "500786     10394  Feeding cows seaweed could slash global greenh...\n",
       "388230     10377  Brazilian radio host famous for exposing corru...\n",
       "465396     10289  Every reference to the Great Barrier Reef remo...\n",
       "495329     10239  Iceland s capital Reykjavik to switch off stre...\n",
       "447311     10161  TTIP: secrecy around talks is  profoundly unde...\n",
       "187603     10159   What we have... is... concrete proof of U.S.-...\n",
       "389011     10086  India sues Nestle for nearly $100m because lea...\n",
       "412603      9967   Shootings  reported in central Paris: Reports...\n",
       "354925      9954  France decrees new rooftops must be covered in...\n",
       "387922      9803  iTunes is illegal under UK copyright law - The...\n",
       "437930      9520      Gravitational waves from black holes detected\n",
       "494404      9492  The UN just declared antibiotic resistance “th..."
      ]
     },
     "execution_count": 13,
     "metadata": {},
     "output_type": "execute_result"
    }
   ],
   "source": [
    "news_df_sub2.sort_values('up_votes', axis=0, ascending=False).head(20)"
   ]
  },
  {
   "cell_type": "code",
   "execution_count": 1,
   "metadata": {},
   "outputs": [
    {
     "ename": "NameError",
     "evalue": "name 'eluvio_df_sub' is not defined",
     "output_type": "error",
     "traceback": [
      "\u001b[1;31m---------------------------------------------------------------------------\u001b[0m",
      "\u001b[1;31mNameError\u001b[0m                                 Traceback (most recent call last)",
      "\u001b[1;32m<ipython-input-1-e4e4bd7ea1ef>\u001b[0m in \u001b[0;36m<module>\u001b[1;34m\u001b[0m\n\u001b[1;32m----> 1\u001b[1;33m \u001b[0meluvio_df_sub\u001b[0m\u001b[1;33m.\u001b[0m\u001b[0msort_values\u001b[0m\u001b[1;33m(\u001b[0m\u001b[1;34m'up_votes'\u001b[0m\u001b[1;33m,\u001b[0m \u001b[0maxis\u001b[0m\u001b[1;33m=\u001b[0m\u001b[1;36m0\u001b[0m\u001b[1;33m,\u001b[0m \u001b[0mascending\u001b[0m\u001b[1;33m=\u001b[0m\u001b[1;32mFalse\u001b[0m\u001b[1;33m)\u001b[0m\u001b[1;33m\u001b[0m\u001b[1;33m\u001b[0m\u001b[0m\n\u001b[0m",
      "\u001b[1;31mNameError\u001b[0m: name 'eluvio_df_sub' is not defined"
     ]
    }
   ],
   "source": [
    "news_df_sub.sort_values('up_votes', axis=0, ascending=False)"
   ]
  },
  {
   "cell_type": "code",
   "execution_count": 18,
   "metadata": {
    "scrolled": false
   },
   "outputs": [
    {
     "data": {
      "text/plain": [
       "144               bbc cover anonymous scientology protests \n",
       "387       morbidly obese man confused  fire officials  u...\n",
       "392                              sigh  time  update    pic \n",
       "652             israeli minister vows palestinian holocaust\n",
       "769        gaza bombshell  vanity fair reports   bush tr...\n",
       "                                ...                        \n",
       "509107    india  set  launch   2 billion renewable energ...\n",
       "509108    jean claude juncker mounts fresh call  europea...\n",
       "509118    lockheed martin lands massive  1 2 billion con...\n",
       "509142    turkey  pm withdraws bill  would pardon men  s...\n",
       "509144    rice farming  india much older  thought  used ...\n",
       "Name: clean_text, Length: 50397, dtype: object"
      ]
     },
     "execution_count": 18,
     "metadata": {},
     "output_type": "execute_result"
    }
   ],
   "source": [
    "news_df_sub['clean_text'] "
   ]
  },
  {
   "cell_type": "code",
   "execution_count": 17,
   "metadata": {
    "scrolled": true
   },
   "outputs": [
    {
     "data": {
      "text/html": [
       "<div>\n",
       "<style scoped>\n",
       "    .dataframe tbody tr th:only-of-type {\n",
       "        vertical-align: middle;\n",
       "    }\n",
       "\n",
       "    .dataframe tbody tr th {\n",
       "        vertical-align: top;\n",
       "    }\n",
       "\n",
       "    .dataframe thead th {\n",
       "        text-align: right;\n",
       "    }\n",
       "</style>\n",
       "<table border=\"1\" class=\"dataframe\">\n",
       "  <thead>\n",
       "    <tr style=\"text-align: right;\">\n",
       "      <th></th>\n",
       "    </tr>\n",
       "  </thead>\n",
       "  <tbody>\n",
       "  </tbody>\n",
       "</table>\n",
       "</div>"
      ],
      "text/plain": [
       "Empty DataFrame\n",
       "Columns: []\n",
       "Index: []"
      ]
     },
     "execution_count": 17,
     "metadata": {},
     "output_type": "execute_result"
    }
   ],
   "source": [
    "# NUM_TOP_WORDS = 5\n",
    "# news_df.groupby('author')['clean_text'].apply(lambda x: hero.top_words(x)[:NUM_TOP_WORDS])\n",
    "df=pd.DataFrame()\n",
    "df.head()"
   ]
  },
  {
   "cell_type": "code",
   "execution_count": 20,
   "metadata": {},
   "outputs": [
    {
     "name": "stderr",
     "output_type": "stream",
     "text": [
      "C:\\Users\\kyhan\\Anaconda3\\lib\\site-packages\\ipykernel_launcher.py:1: SettingWithCopyWarning: \n",
      "A value is trying to be set on a copy of a slice from a DataFrame.\n",
      "Try using .loc[row_indexer,col_indexer] = value instead\n",
      "\n",
      "See the caveats in the documentation: https://pandas.pydata.org/pandas-docs/stable/user_guide/indexing.html#returning-a-view-versus-a-copy\n",
      "  \"\"\"Entry point for launching an IPython kernel.\n"
     ]
    },
    {
     "data": {
      "text/plain": [
       "144            bbc cover anonymous scientology protests \n",
       "387    morbidly obese man confused  fire officials  u...\n",
       "392                           sigh  time  update    pic \n",
       "652          israeli minister vows palestinian holocaust\n",
       "769     gaza bombshell  vanity fair reports   bush tr...\n",
       "Name: clean_text_sub, dtype: object"
      ]
     },
     "execution_count": 20,
     "metadata": {},
     "output_type": "execute_result"
    }
   ],
   "source": [
    "news_df_sub['clean_text_sub']=news_df_sub.clean_text\n",
    "news_df_sub['clean_text_sub'].head()"
   ]
  },
  {
   "cell_type": "code",
   "execution_count": 20,
   "metadata": {
    "scrolled": true
   },
   "outputs": [
    {
     "data": {
      "text/plain": [
       "144             bbc cover anonymous scientology protests!\n",
       "387     morbidly obese man confused why fire officials...\n",
       "392                *sigh* time to update this again [pic]\n",
       "652           israeli minister vows palestinian holocaust\n",
       "769     the gaza bombshell: vanity fair reports on how...\n",
       "991     dick cheney s former company supplies unmonito...\n",
       "1085    every pixel in the illustration represents one...\n",
       "1150    corrective rape, where a male pupil rapes a fe...\n",
       "1182    fiji gov t official: no one wants the usa to b...\n",
       "1294                         tibet protest photos 08-0315\n",
       "1335               dalai lama to china: i won’t back down\n",
       "1360    naughty children as young as five should be pu...\n",
       "1362              stocks, dollar plunge in market turmoil\n",
       "1416    our dollar is worth maybe zero over here - ame...\n",
       "1454     dalai lama will resign if tibet violence worsens\n",
       "1464                      tibet protesters shot like dogs\n",
       "1493                  disfigured woman loses fight to die\n",
       "1508    abu ghraib guard: because of torture, these pe...\n",
       "1531             calls mount for olympic ceremony boycott\n",
       "1535    france calls for a boycott of the olympics cer...\n",
       "1551       italy judge clears way for cia rendition trial\n",
       "1552    cbc to release program drm-free via bittorrent...\n",
       "1563    israel rebukes us: our copyright laws are fine...\n",
       "1589            world record : giant man lives in ukraine\n",
       "1642           world s best-known protest symbol turns 50\n",
       "1717    starbucks must pay $100 million in back tips: ...\n",
       "1722    italian judge clears way for trial in absentia...\n",
       "1730          tibet: 1,000 arrested, hundreds disappeared\n",
       "1759    abc news: china spooked? may cancel live broad...\n",
       "1764    in 1949 china invaded tibet massacring more th...\n",
       "1776    china vows to crush tibet s independence movement\n",
       "1798    canada, u.s. agree to use each other s troops ...\n",
       "1825    web host suspends site planned for anti-koran ...\n",
       "1835    with $50 and a plane ticket to haiti, one can ...\n",
       "1849    wikileaks releases over 120 censored videos an...\n",
       "1885    pics from the tibetan protests - more graphic ...\n",
       "1947            bee plague worsening, anxious keepers say\n",
       "1961       bush outsourcing executions to iraq... awesome\n",
       "1994    within hours of being elected, pakistan s new ...\n",
       "2017    chinese man, who told his government, human ri...\n",
       "2030    cops beat the living hell out of peaceful tibe...\n",
       "2051    girl dies after parents pray for healing inste...\n",
       "2055    apparently bush has been lying about the cost ...\n",
       "2097    nightmare at guantanamo: u.s. army chaplain ja...\n",
       "2151    the united states is frequently seen as an enf...\n",
       "2210    who will tell the clintons that hillary has lost?\n",
       "2245    the top-less feminist movement in scandinavia ...\n",
       "2277    why are americans expected to love america? i ...\n",
       "2286    wtf: yahoo and msn are helping to root out tib...\n",
       "2312                un rejects water as basic human right\n",
       "Name: clean_text_sub, dtype: object"
      ]
     },
     "execution_count": 20,
     "metadata": {},
     "output_type": "execute_result"
    }
   ],
   "source": [
    "df['clean_text_sub']=news_df_sub.clean_text[:50]\n",
    "df['clean_text_sub']"
   ]
  },
  {
   "cell_type": "code",
   "execution_count": null,
   "metadata": {},
   "outputs": [],
   "source": [
    "# news_df['clean_text']  = news_content.clean_content[:30]"
   ]
  },
  {
   "cell_type": "code",
   "execution_count": 22,
   "metadata": {
    "scrolled": true
   },
   "outputs": [
    {
     "ename": "KeyboardInterrupt",
     "evalue": "",
     "output_type": "error",
     "traceback": [
      "\u001b[1;31m---------------------------------------------------------------------------\u001b[0m",
      "\u001b[1;31mMemoryError\u001b[0m                               Traceback (most recent call last)",
      "\u001b[1;32m~\\Anaconda3\\lib\\site-packages\\IPython\\core\\interactiveshell.py\u001b[0m in \u001b[0;36mrun_code\u001b[1;34m(self, code_obj, result, async_)\u001b[0m\n\u001b[0;32m   3266\u001b[0m                 \u001b[1;32melse\u001b[0m\u001b[1;33m:\u001b[0m\u001b[1;33m\u001b[0m\u001b[1;33m\u001b[0m\u001b[0m\n\u001b[1;32m-> 3267\u001b[1;33m                     \u001b[0mexec\u001b[0m\u001b[1;33m(\u001b[0m\u001b[0mcode_obj\u001b[0m\u001b[1;33m,\u001b[0m \u001b[0mself\u001b[0m\u001b[1;33m.\u001b[0m\u001b[0muser_global_ns\u001b[0m\u001b[1;33m,\u001b[0m \u001b[0mself\u001b[0m\u001b[1;33m.\u001b[0m\u001b[0muser_ns\u001b[0m\u001b[1;33m)\u001b[0m\u001b[1;33m\u001b[0m\u001b[1;33m\u001b[0m\u001b[0m\n\u001b[0m\u001b[0;32m   3268\u001b[0m             \u001b[1;32mfinally\u001b[0m\u001b[1;33m:\u001b[0m\u001b[1;33m\u001b[0m\u001b[1;33m\u001b[0m\u001b[0m\n",
      "\u001b[1;32m<ipython-input-22-26df214c675e>\u001b[0m in \u001b[0;36m<module>\u001b[1;34m\u001b[0m\n\u001b[1;32m----> 1\u001b[1;33m \u001b[0meluvio_df_sub\u001b[0m\u001b[1;33m[\u001b[0m\u001b[1;34m'tfidf_clean_text'\u001b[0m\u001b[1;33m]\u001b[0m \u001b[1;33m=\u001b[0m \u001b[0mhero\u001b[0m\u001b[1;33m.\u001b[0m\u001b[0mtfidf\u001b[0m\u001b[1;33m(\u001b[0m\u001b[0meluvio_df_sub\u001b[0m\u001b[1;33m[\u001b[0m\u001b[1;34m'clean_text_sub'\u001b[0m\u001b[1;33m]\u001b[0m \u001b[1;33m)\u001b[0m\u001b[1;33m\u001b[0m\u001b[1;33m\u001b[0m\u001b[0m\n\u001b[0m\u001b[0;32m      2\u001b[0m \u001b[0meluvio_df_sub\u001b[0m\u001b[1;33m[\u001b[0m\u001b[1;34m'tfidf_clean_text'\u001b[0m\u001b[1;33m]\u001b[0m\u001b[1;33m\u001b[0m\u001b[1;33m\u001b[0m\u001b[0m\n",
      "\u001b[1;32m~\\Anaconda3\\lib\\site-packages\\texthero\\representation.py\u001b[0m in \u001b[0;36mtfidf\u001b[1;34m(s, max_features, min_df, return_feature_names)\u001b[0m\n\u001b[0;32m    119\u001b[0m     )\n\u001b[1;32m--> 120\u001b[1;33m     \u001b[0ms\u001b[0m \u001b[1;33m=\u001b[0m \u001b[0mpd\u001b[0m\u001b[1;33m.\u001b[0m\u001b[0mSeries\u001b[0m\u001b[1;33m(\u001b[0m\u001b[0mtfidf\u001b[0m\u001b[1;33m.\u001b[0m\u001b[0mfit_transform\u001b[0m\u001b[1;33m(\u001b[0m\u001b[0ms\u001b[0m\u001b[1;33m)\u001b[0m\u001b[1;33m.\u001b[0m\u001b[0mtoarray\u001b[0m\u001b[1;33m(\u001b[0m\u001b[1;33m)\u001b[0m\u001b[1;33m.\u001b[0m\u001b[0mtolist\u001b[0m\u001b[1;33m(\u001b[0m\u001b[1;33m)\u001b[0m\u001b[1;33m,\u001b[0m \u001b[0mindex\u001b[0m\u001b[1;33m=\u001b[0m\u001b[0ms\u001b[0m\u001b[1;33m.\u001b[0m\u001b[0mindex\u001b[0m\u001b[1;33m)\u001b[0m\u001b[1;33m\u001b[0m\u001b[1;33m\u001b[0m\u001b[0m\n\u001b[0m\u001b[0;32m    121\u001b[0m \u001b[1;33m\u001b[0m\u001b[0m\n",
      "\u001b[1;31mMemoryError\u001b[0m: ",
      "\nDuring handling of the above exception, another exception occurred:\n",
      "\u001b[1;31mKeyboardInterrupt\u001b[0m                         Traceback (most recent call last)",
      "\u001b[1;31mKeyboardInterrupt\u001b[0m: "
     ]
    }
   ],
   "source": [
    "news_df_sub['tfidf_clean_text'] = hero.tfidf(news_df_sub['clean_text_sub'] )\n",
    "news_df_sub['tfidf_clean_text']"
   ]
  },
  {
   "cell_type": "markdown",
   "metadata": {},
   "source": [
    "I wanted to try tf-idf method but I realized that it soon exceed my 32 gb of RAM just by using 10% of dataset. "
   ]
  }
 ],
 "metadata": {
  "kernelspec": {
   "display_name": "Python 3",
   "language": "python",
   "name": "python3"
  },
  "language_info": {
   "codemirror_mode": {
    "name": "ipython",
    "version": 3
   },
   "file_extension": ".py",
   "mimetype": "text/x-python",
   "name": "python",
   "nbconvert_exporter": "python",
   "pygments_lexer": "ipython3",
   "version": "3.7.1"
  }
 },
 "nbformat": 4,
 "nbformat_minor": 2
}
